{
 "cells": [
  {
   "cell_type": "code",
   "execution_count": 1,
   "metadata": {},
   "outputs": [],
   "source": [
    "import pandas as pd\n"
   ]
  },
  {
   "cell_type": "code",
   "execution_count": 38,
   "metadata": {},
   "outputs": [],
   "source": [
    "df = pd.read_csv(\n",
    "    \"../data/interim/weather/heathrow_weather_2011-2014_linear_interpolated_30min.csv\", parse_dates=[\"ob_time\"]\n",
    ")\n"
   ]
  },
  {
   "cell_type": "code",
   "execution_count": 32,
   "metadata": {},
   "outputs": [
    {
     "name": "stdout",
     "output_type": "stream",
     "text": [
      "<class 'pandas.core.frame.DataFrame'>\n",
      "RangeIndex: 70127 entries, 0 to 70126\n",
      "Data columns (total 10 columns):\n",
      " #   Column           Non-Null Count  Dtype  \n",
      "---  ------           --------------  -----  \n",
      " 0   ob_time          70127 non-null  object \n",
      " 1   air_temperature  70127 non-null  float64\n",
      " 2   rltv_hum         70127 non-null  float64\n",
      " 3   wmo_hr_sun_dur   70127 non-null  float64\n",
      " 4   wind_speed       70127 non-null  float64\n",
      " 5   cld_ttl_amt_id   70127 non-null  int64  \n",
      " 6   visibility       70127 non-null  int64  \n",
      " 7   dewpoint         70127 non-null  float64\n",
      " 8   wetb_temp        70127 non-null  float64\n",
      " 9   wind_direction   70127 non-null  int64  \n",
      "dtypes: float64(6), int64(3), object(1)\n",
      "memory usage: 5.4+ MB\n"
     ]
    }
   ],
   "source": [
    "df.info()"
   ]
  },
  {
   "cell_type": "code",
   "execution_count": 33,
   "metadata": {},
   "outputs": [
    {
     "data": {
      "text/html": [
       "<div>\n",
       "<style scoped>\n",
       "    .dataframe tbody tr th:only-of-type {\n",
       "        vertical-align: middle;\n",
       "    }\n",
       "\n",
       "    .dataframe tbody tr th {\n",
       "        vertical-align: top;\n",
       "    }\n",
       "\n",
       "    .dataframe thead th {\n",
       "        text-align: right;\n",
       "    }\n",
       "</style>\n",
       "<table border=\"1\" class=\"dataframe\">\n",
       "  <thead>\n",
       "    <tr style=\"text-align: right;\">\n",
       "      <th></th>\n",
       "      <th>air_temperature</th>\n",
       "      <th>rltv_hum</th>\n",
       "      <th>wmo_hr_sun_dur</th>\n",
       "      <th>wind_speed</th>\n",
       "      <th>cld_ttl_amt_id</th>\n",
       "      <th>visibility</th>\n",
       "      <th>dewpoint</th>\n",
       "      <th>wetb_temp</th>\n",
       "      <th>wind_direction</th>\n",
       "    </tr>\n",
       "  </thead>\n",
       "  <tbody>\n",
       "    <tr>\n",
       "      <th>count</th>\n",
       "      <td>70127.000000</td>\n",
       "      <td>70127.000000</td>\n",
       "      <td>70127.000000</td>\n",
       "      <td>70127.000000</td>\n",
       "      <td>70127.000000</td>\n",
       "      <td>70127.000000</td>\n",
       "      <td>70127.000000</td>\n",
       "      <td>70127.000000</td>\n",
       "      <td>70127.000000</td>\n",
       "    </tr>\n",
       "    <tr>\n",
       "      <th>mean</th>\n",
       "      <td>11.624426</td>\n",
       "      <td>75.545623</td>\n",
       "      <td>0.175506</td>\n",
       "      <td>8.113886</td>\n",
       "      <td>4.487929</td>\n",
       "      <td>2157.515650</td>\n",
       "      <td>7.099144</td>\n",
       "      <td>9.402331</td>\n",
       "      <td>192.205427</td>\n",
       "    </tr>\n",
       "    <tr>\n",
       "      <th>std</th>\n",
       "      <td>5.956932</td>\n",
       "      <td>15.448697</td>\n",
       "      <td>0.326806</td>\n",
       "      <td>4.202297</td>\n",
       "      <td>3.309729</td>\n",
       "      <td>1062.271793</td>\n",
       "      <td>4.822699</td>\n",
       "      <td>4.826738</td>\n",
       "      <td>92.413792</td>\n",
       "    </tr>\n",
       "    <tr>\n",
       "      <th>min</th>\n",
       "      <td>-7.300000</td>\n",
       "      <td>15.500000</td>\n",
       "      <td>0.000000</td>\n",
       "      <td>0.000000</td>\n",
       "      <td>0.000000</td>\n",
       "      <td>0.000000</td>\n",
       "      <td>-11.800000</td>\n",
       "      <td>-7.700000</td>\n",
       "      <td>0.000000</td>\n",
       "    </tr>\n",
       "    <tr>\n",
       "      <th>25%</th>\n",
       "      <td>7.400000</td>\n",
       "      <td>66.000000</td>\n",
       "      <td>0.000000</td>\n",
       "      <td>5.000000</td>\n",
       "      <td>0.000000</td>\n",
       "      <td>1300.000000</td>\n",
       "      <td>3.700000</td>\n",
       "      <td>6.000000</td>\n",
       "      <td>120.000000</td>\n",
       "    </tr>\n",
       "    <tr>\n",
       "      <th>50%</th>\n",
       "      <td>11.600000</td>\n",
       "      <td>78.900000</td>\n",
       "      <td>0.000000</td>\n",
       "      <td>7.500000</td>\n",
       "      <td>6.000000</td>\n",
       "      <td>2200.000000</td>\n",
       "      <td>7.400000</td>\n",
       "      <td>9.700000</td>\n",
       "      <td>210.000000</td>\n",
       "    </tr>\n",
       "    <tr>\n",
       "      <th>75%</th>\n",
       "      <td>15.800000</td>\n",
       "      <td>88.000000</td>\n",
       "      <td>0.200000</td>\n",
       "      <td>10.500000</td>\n",
       "      <td>8.000000</td>\n",
       "      <td>2900.000000</td>\n",
       "      <td>10.800000</td>\n",
       "      <td>13.100000</td>\n",
       "      <td>260.000000</td>\n",
       "    </tr>\n",
       "    <tr>\n",
       "      <th>max</th>\n",
       "      <td>33.700000</td>\n",
       "      <td>100.000000</td>\n",
       "      <td>1.000000</td>\n",
       "      <td>36.000000</td>\n",
       "      <td>9.000000</td>\n",
       "      <td>7500.000000</td>\n",
       "      <td>20.000000</td>\n",
       "      <td>22.900000</td>\n",
       "      <td>360.000000</td>\n",
       "    </tr>\n",
       "  </tbody>\n",
       "</table>\n",
       "</div>"
      ],
      "text/plain": [
       "       air_temperature      rltv_hum  wmo_hr_sun_dur    wind_speed  \\\n",
       "count     70127.000000  70127.000000    70127.000000  70127.000000   \n",
       "mean         11.624426     75.545623        0.175506      8.113886   \n",
       "std           5.956932     15.448697        0.326806      4.202297   \n",
       "min          -7.300000     15.500000        0.000000      0.000000   \n",
       "25%           7.400000     66.000000        0.000000      5.000000   \n",
       "50%          11.600000     78.900000        0.000000      7.500000   \n",
       "75%          15.800000     88.000000        0.200000     10.500000   \n",
       "max          33.700000    100.000000        1.000000     36.000000   \n",
       "\n",
       "       cld_ttl_amt_id    visibility      dewpoint     wetb_temp  \\\n",
       "count    70127.000000  70127.000000  70127.000000  70127.000000   \n",
       "mean         4.487929   2157.515650      7.099144      9.402331   \n",
       "std          3.309729   1062.271793      4.822699      4.826738   \n",
       "min          0.000000      0.000000    -11.800000     -7.700000   \n",
       "25%          0.000000   1300.000000      3.700000      6.000000   \n",
       "50%          6.000000   2200.000000      7.400000      9.700000   \n",
       "75%          8.000000   2900.000000     10.800000     13.100000   \n",
       "max          9.000000   7500.000000     20.000000     22.900000   \n",
       "\n",
       "       wind_direction  \n",
       "count    70127.000000  \n",
       "mean       192.205427  \n",
       "std         92.413792  \n",
       "min          0.000000  \n",
       "25%        120.000000  \n",
       "50%        210.000000  \n",
       "75%        260.000000  \n",
       "max        360.000000  "
      ]
     },
     "execution_count": 33,
     "metadata": {},
     "output_type": "execute_result"
    }
   ],
   "source": [
    "df.describe()"
   ]
  },
  {
   "cell_type": "code",
   "execution_count": null,
   "metadata": {},
   "outputs": [
    {
     "data": {
      "text/plain": [
       "ob_time            0\n",
       "air_temperature    0\n",
       "rltv_hum           0\n",
       "wmo_hr_sun_dur     0\n",
       "wind_speed         0\n",
       "cld_ttl_amt_id     0\n",
       "visibility         0\n",
       "dewpoint           0\n",
       "wetb_temp          0\n",
       "wind_direction     0\n",
       "dtype: int64"
      ]
     },
     "execution_count": 34,
     "metadata": {},
     "output_type": "execute_result"
    }
   ],
   "source": [
    "df.isna().sum()"
   ]
  },
  {
   "cell_type": "code",
   "execution_count": null,
   "metadata": {},
   "outputs": [
    {
     "name": "stdout",
     "output_type": "stream",
     "text": [
      "最大時間差: 0 days 00:30:00\n",
      "時間差の分布:\n",
      "ob_time\n",
      "0 days 00:30:00    70126\n",
      "Name: count, dtype: int64\n"
     ]
    }
   ],
   "source": [
    "time_diff = df[\"ob_time\"].diff()\n",
    "print(\"最大時間差:\", time_diff.max())\n",
    "print(\"時間差の分布:\")\n",
    "print(time_diff.value_counts().head())\n"
   ]
  },
  {
   "cell_type": "code",
   "execution_count": null,
   "metadata": {},
   "outputs": [],
   "source": []
  }
 ],
 "metadata": {
  "kernelspec": {
   "display_name": ".venv",
   "language": "python",
   "name": "python3"
  },
  "language_info": {
   "codemirror_mode": {
    "name": "ipython",
    "version": 3
   },
   "file_extension": ".py",
   "mimetype": "text/x-python",
   "name": "python",
   "nbconvert_exporter": "python",
   "pygments_lexer": "ipython3",
   "version": "3.12.6"
  }
 },
 "nbformat": 4,
 "nbformat_minor": 2
}

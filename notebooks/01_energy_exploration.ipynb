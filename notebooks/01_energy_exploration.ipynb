{
 "cells": [
  {
   "cell_type": "code",
   "execution_count": 26,
   "metadata": {},
   "outputs": [],
   "source": [
    "import pandas as pd\n"
   ]
  },
  {
   "cell_type": "code",
   "execution_count": 27,
   "metadata": {},
   "outputs": [],
   "source": [
    "df = pd.read_csv(\"../data/raw/energy/CC_LCL-FullData.csv\")\n"
   ]
  },
  {
   "cell_type": "code",
   "execution_count": 5,
   "metadata": {},
   "outputs": [
    {
     "data": {
      "text/html": [
       "<div>\n",
       "<style scoped>\n",
       "    .dataframe tbody tr th:only-of-type {\n",
       "        vertical-align: middle;\n",
       "    }\n",
       "\n",
       "    .dataframe tbody tr th {\n",
       "        vertical-align: top;\n",
       "    }\n",
       "\n",
       "    .dataframe thead th {\n",
       "        text-align: right;\n",
       "    }\n",
       "</style>\n",
       "<table border=\"1\" class=\"dataframe\">\n",
       "  <thead>\n",
       "    <tr style=\"text-align: right;\">\n",
       "      <th></th>\n",
       "      <th>LCLid</th>\n",
       "      <th>stdorToU</th>\n",
       "      <th>DateTime</th>\n",
       "      <th>KWH/hh (per half hour)</th>\n",
       "    </tr>\n",
       "  </thead>\n",
       "  <tbody>\n",
       "    <tr>\n",
       "      <th>0</th>\n",
       "      <td>MAC000002</td>\n",
       "      <td>Std</td>\n",
       "      <td>2012-10-12 00:30:00.0000000</td>\n",
       "      <td>0</td>\n",
       "    </tr>\n",
       "    <tr>\n",
       "      <th>1</th>\n",
       "      <td>MAC000002</td>\n",
       "      <td>Std</td>\n",
       "      <td>2012-10-12 01:00:00.0000000</td>\n",
       "      <td>0</td>\n",
       "    </tr>\n",
       "    <tr>\n",
       "      <th>2</th>\n",
       "      <td>MAC000002</td>\n",
       "      <td>Std</td>\n",
       "      <td>2012-10-12 01:30:00.0000000</td>\n",
       "      <td>0</td>\n",
       "    </tr>\n",
       "    <tr>\n",
       "      <th>3</th>\n",
       "      <td>MAC000002</td>\n",
       "      <td>Std</td>\n",
       "      <td>2012-10-12 02:00:00.0000000</td>\n",
       "      <td>0</td>\n",
       "    </tr>\n",
       "    <tr>\n",
       "      <th>4</th>\n",
       "      <td>MAC000002</td>\n",
       "      <td>Std</td>\n",
       "      <td>2012-10-12 02:30:00.0000000</td>\n",
       "      <td>0</td>\n",
       "    </tr>\n",
       "  </tbody>\n",
       "</table>\n",
       "</div>"
      ],
      "text/plain": [
       "       LCLid stdorToU                     DateTime KWH/hh (per half hour) \n",
       "0  MAC000002      Std  2012-10-12 00:30:00.0000000                      0 \n",
       "1  MAC000002      Std  2012-10-12 01:00:00.0000000                      0 \n",
       "2  MAC000002      Std  2012-10-12 01:30:00.0000000                      0 \n",
       "3  MAC000002      Std  2012-10-12 02:00:00.0000000                      0 \n",
       "4  MAC000002      Std  2012-10-12 02:30:00.0000000                      0 "
      ]
     },
     "execution_count": 5,
     "metadata": {},
     "output_type": "execute_result"
    }
   ],
   "source": [
    "df.head(5)"
   ]
  },
  {
   "cell_type": "code",
   "execution_count": 6,
   "metadata": {},
   "outputs": [
    {
     "name": "stdout",
     "output_type": "stream",
     "text": [
      "<class 'pandas.core.frame.DataFrame'>\n",
      "RangeIndex: 167932474 entries, 0 to 167932473\n",
      "Data columns (total 4 columns):\n",
      " #   Column                   Dtype \n",
      "---  ------                   ----- \n",
      " 0   LCLid                    object\n",
      " 1   stdorToU                 object\n",
      " 2   DateTime                 object\n",
      " 3   KWH/hh (per half hour)   object\n",
      "dtypes: object(4)\n",
      "memory usage: 5.0+ GB\n"
     ]
    }
   ],
   "source": [
    "df.info()"
   ]
  },
  {
   "cell_type": "code",
   "execution_count": 7,
   "metadata": {},
   "outputs": [
    {
     "name": "stdout",
     "output_type": "stream",
     "text": [
      "LCLid                      object\n",
      "stdorToU                   object\n",
      "DateTime                   object\n",
      "KWH/hh (per half hour)     object\n",
      "dtype: object\n",
      "Index(['LCLid', 'stdorToU', 'DateTime', 'KWH/hh (per half hour) '], dtype='object')\n"
     ]
    }
   ],
   "source": [
    "print(df.dtypes)\n",
    "print(df.columns)\n"
   ]
  },
  {
   "cell_type": "code",
   "execution_count": 8,
   "metadata": {},
   "outputs": [
    {
     "name": "stdout",
     "output_type": "stream",
     "text": [
      "Index(['LCLid', 'stdorToU', 'DateTime', 'KWH/hh (per half hour)'], dtype='object')\n"
     ]
    }
   ],
   "source": [
    "df.columns = df.columns.str.strip()\n",
    "print(df.columns)\n"
   ]
  },
  {
   "cell_type": "code",
   "execution_count": 9,
   "metadata": {},
   "outputs": [
    {
     "name": "stdout",
     "output_type": "stream",
     "text": [
      "datetime64[ns]\n"
     ]
    }
   ],
   "source": [
    "df[\"DateTime\"] = pd.to_datetime(df[\"DateTime\"])\n",
    "print(df[\"DateTime\"].dtype)"
   ]
  },
  {
   "cell_type": "code",
   "execution_count": 10,
   "metadata": {},
   "outputs": [],
   "source": [
    "df[\"KWH/hh (per half hour)\"] = pd.to_numeric(df[\"KWH/hh (per half hour)\"], errors=\"coerce\")\n"
   ]
  },
  {
   "cell_type": "code",
   "execution_count": 11,
   "metadata": {},
   "outputs": [
    {
     "name": "stdout",
     "output_type": "stream",
     "text": [
      "float64\n",
      "0    0.0\n",
      "1    0.0\n",
      "2    0.0\n",
      "3    0.0\n",
      "4    0.0\n",
      "Name: KWH/hh (per half hour), dtype: float64\n"
     ]
    }
   ],
   "source": [
    "print(df[\"KWH/hh (per half hour)\"].dtype)\n",
    "print(df[\"KWH/hh (per half hour)\"].head())"
   ]
  },
  {
   "cell_type": "code",
   "execution_count": 12,
   "metadata": {},
   "outputs": [
    {
     "name": "stdout",
     "output_type": "stream",
     "text": [
      "<class 'pandas.core.frame.DataFrame'>\n",
      "RangeIndex: 167932474 entries, 0 to 167932473\n",
      "Data columns (total 4 columns):\n",
      " #   Column                  Dtype         \n",
      "---  ------                  -----         \n",
      " 0   LCLid                   object        \n",
      " 1   stdorToU                object        \n",
      " 2   DateTime                datetime64[ns]\n",
      " 3   KWH/hh (per half hour)  float64       \n",
      "dtypes: datetime64[ns](1), float64(1), object(2)\n",
      "memory usage: 5.0+ GB\n"
     ]
    }
   ],
   "source": [
    "df.info()\n"
   ]
  },
  {
   "cell_type": "code",
   "execution_count": 13,
   "metadata": {},
   "outputs": [
    {
     "data": {
      "text/plain": [
       "LCLid                        0\n",
       "stdorToU                     0\n",
       "DateTime                     0\n",
       "KWH/hh (per half hour)    5560\n",
       "dtype: int64"
      ]
     },
     "execution_count": 13,
     "metadata": {},
     "output_type": "execute_result"
    }
   ],
   "source": [
    "df.isna().sum()"
   ]
  },
  {
   "cell_type": "code",
   "execution_count": 14,
   "metadata": {},
   "outputs": [
    {
     "data": {
      "text/plain": [
       "count    1.679269e+08\n",
       "mean     2.117630e-01\n",
       "std      2.972592e-01\n",
       "min      0.000000e+00\n",
       "25%      5.800000e-02\n",
       "50%      1.170000e-01\n",
       "75%      2.390000e-01\n",
       "max      1.076100e+01\n",
       "Name: KWH/hh (per half hour), dtype: float64"
      ]
     },
     "execution_count": 14,
     "metadata": {},
     "output_type": "execute_result"
    }
   ],
   "source": [
    "df[\"KWH/hh (per half hour)\"].describe()"
   ]
  },
  {
   "cell_type": "code",
   "execution_count": 15,
   "metadata": {},
   "outputs": [
    {
     "name": "stdout",
     "output_type": "stream",
     "text": [
      "\n",
      "LCLid unique values:\n",
      "LCLid\n",
      "MAC000145    39752\n",
      "MAC000147    39752\n",
      "MAC000150    39747\n",
      "MAC000152    39746\n",
      "MAC000149    39745\n",
      "             ...  \n",
      "MAC005556        1\n",
      "MAC001150        1\n",
      "MAC005560        1\n",
      "MAC005563        1\n",
      "MAC005559        1\n",
      "Name: count, Length: 5566, dtype: int64\n",
      "\n",
      "stdorToU unique values:\n",
      "stdorToU\n",
      "Std    134148703\n",
      "ToU     33783771\n",
      "Name: count, dtype: int64\n"
     ]
    }
   ],
   "source": [
    "for col in [\"LCLid\", \"stdorToU\"]:\n",
    "    print(f\"\\n{col} unique values:\")\n",
    "    print(df[col].value_counts())\n"
   ]
  },
  {
   "cell_type": "code",
   "execution_count": 22,
   "metadata": {},
   "outputs": [
    {
     "data": {
      "text/html": [
       "<div>\n",
       "<style scoped>\n",
       "    .dataframe tbody tr th:only-of-type {\n",
       "        vertical-align: middle;\n",
       "    }\n",
       "\n",
       "    .dataframe tbody tr th {\n",
       "        vertical-align: top;\n",
       "    }\n",
       "\n",
       "    .dataframe thead th {\n",
       "        text-align: right;\n",
       "    }\n",
       "</style>\n",
       "<table border=\"1\" class=\"dataframe\">\n",
       "  <thead>\n",
       "    <tr style=\"text-align: right;\">\n",
       "      <th></th>\n",
       "      <th>LCLid</th>\n",
       "      <th>stdorToU</th>\n",
       "      <th>DateTime</th>\n",
       "      <th>KWH/hh (per half hour)</th>\n",
       "    </tr>\n",
       "  </thead>\n",
       "  <tbody>\n",
       "    <tr>\n",
       "      <th>4354648</th>\n",
       "      <td>MAC000145</td>\n",
       "      <td>Std</td>\n",
       "      <td>2011-11-23 09:00:00</td>\n",
       "      <td>0.355</td>\n",
       "    </tr>\n",
       "  </tbody>\n",
       "</table>\n",
       "</div>"
      ],
      "text/plain": [
       "             LCLid stdorToU            DateTime  KWH/hh (per half hour)\n",
       "4354648  MAC000145      Std 2011-11-23 09:00:00                   0.355"
      ]
     },
     "execution_count": 22,
     "metadata": {},
     "output_type": "execute_result"
    }
   ],
   "source": [
    "df[df[\"LCLid\"] == \"MAC000145\"].head(1)"
   ]
  },
  {
   "cell_type": "code",
   "execution_count": 23,
   "metadata": {},
   "outputs": [
    {
     "data": {
      "text/html": [
       "<div>\n",
       "<style scoped>\n",
       "    .dataframe tbody tr th:only-of-type {\n",
       "        vertical-align: middle;\n",
       "    }\n",
       "\n",
       "    .dataframe tbody tr th {\n",
       "        vertical-align: top;\n",
       "    }\n",
       "\n",
       "    .dataframe thead th {\n",
       "        text-align: right;\n",
       "    }\n",
       "</style>\n",
       "<table border=\"1\" class=\"dataframe\">\n",
       "  <thead>\n",
       "    <tr style=\"text-align: right;\">\n",
       "      <th></th>\n",
       "      <th>LCLid</th>\n",
       "      <th>stdorToU</th>\n",
       "      <th>DateTime</th>\n",
       "      <th>KWH/hh (per half hour)</th>\n",
       "    </tr>\n",
       "  </thead>\n",
       "  <tbody>\n",
       "    <tr>\n",
       "      <th>135007441</th>\n",
       "      <td>MAC000147</td>\n",
       "      <td>ToU</td>\n",
       "      <td>2011-11-23 10:00:00</td>\n",
       "      <td>0.15</td>\n",
       "    </tr>\n",
       "  </tbody>\n",
       "</table>\n",
       "</div>"
      ],
      "text/plain": [
       "               LCLid stdorToU            DateTime  KWH/hh (per half hour)\n",
       "135007441  MAC000147      ToU 2011-11-23 10:00:00                    0.15"
      ]
     },
     "execution_count": 23,
     "metadata": {},
     "output_type": "execute_result"
    }
   ],
   "source": [
    "df[df[\"LCLid\"] == \"MAC000147\"].head(1)\n"
   ]
  },
  {
   "cell_type": "code",
   "execution_count": 24,
   "metadata": {},
   "outputs": [
    {
     "data": {
      "text/html": [
       "<div>\n",
       "<style scoped>\n",
       "    .dataframe tbody tr th:only-of-type {\n",
       "        vertical-align: middle;\n",
       "    }\n",
       "\n",
       "    .dataframe tbody tr th {\n",
       "        vertical-align: top;\n",
       "    }\n",
       "\n",
       "    .dataframe thead th {\n",
       "        text-align: right;\n",
       "    }\n",
       "</style>\n",
       "<table border=\"1\" class=\"dataframe\">\n",
       "  <thead>\n",
       "    <tr style=\"text-align: right;\">\n",
       "      <th></th>\n",
       "      <th>LCLid</th>\n",
       "      <th>stdorToU</th>\n",
       "      <th>DateTime</th>\n",
       "      <th>KWH/hh (per half hour)</th>\n",
       "    </tr>\n",
       "  </thead>\n",
       "  <tbody>\n",
       "    <tr>\n",
       "      <th>4473890</th>\n",
       "      <td>MAC000150</td>\n",
       "      <td>Std</td>\n",
       "      <td>2011-11-23 10:00:00</td>\n",
       "      <td>0.301</td>\n",
       "    </tr>\n",
       "  </tbody>\n",
       "</table>\n",
       "</div>"
      ],
      "text/plain": [
       "             LCLid stdorToU            DateTime  KWH/hh (per half hour)\n",
       "4473890  MAC000150      Std 2011-11-23 10:00:00                   0.301"
      ]
     },
     "execution_count": 24,
     "metadata": {},
     "output_type": "execute_result"
    }
   ],
   "source": [
    "df[df[\"LCLid\"] == \"MAC000150\"].head(1)\n"
   ]
  },
  {
   "cell_type": "code",
   "execution_count": 25,
   "metadata": {},
   "outputs": [
    {
     "data": {
      "text/html": [
       "<div>\n",
       "<style scoped>\n",
       "    .dataframe tbody tr th:only-of-type {\n",
       "        vertical-align: middle;\n",
       "    }\n",
       "\n",
       "    .dataframe tbody tr th {\n",
       "        vertical-align: top;\n",
       "    }\n",
       "\n",
       "    .dataframe thead th {\n",
       "        text-align: right;\n",
       "    }\n",
       "</style>\n",
       "<table border=\"1\" class=\"dataframe\">\n",
       "  <thead>\n",
       "    <tr style=\"text-align: right;\">\n",
       "      <th></th>\n",
       "      <th>LCLid</th>\n",
       "      <th>stdorToU</th>\n",
       "      <th>DateTime</th>\n",
       "      <th>KWH/hh (per half hour)</th>\n",
       "    </tr>\n",
       "  </thead>\n",
       "  <tbody>\n",
       "    <tr>\n",
       "      <th>4553375</th>\n",
       "      <td>MAC000152</td>\n",
       "      <td>Std</td>\n",
       "      <td>2011-11-23 12:00:00</td>\n",
       "      <td>0.241</td>\n",
       "    </tr>\n",
       "  </tbody>\n",
       "</table>\n",
       "</div>"
      ],
      "text/plain": [
       "             LCLid stdorToU            DateTime  KWH/hh (per half hour)\n",
       "4553375  MAC000152      Std 2011-11-23 12:00:00                   0.241"
      ]
     },
     "execution_count": 25,
     "metadata": {},
     "output_type": "execute_result"
    }
   ],
   "source": [
    "df[df[\"LCLid\"] == \"MAC000152\"].head(1)\n"
   ]
  },
  {
   "cell_type": "code",
   "execution_count": 39,
   "metadata": {},
   "outputs": [],
   "source": [
    "target_lcl_id = \"MAC000145\"\n",
    "\n",
    "df = df.rename(columns={\"KWH/hh (per half hour) \": \"KWH/hh\"})\n",
    "df[\"DateTime\"] = pd.to_datetime(df[\"DateTime\"])\n",
    "df[\"KWH/hh\"] = pd.to_numeric(df[\"KWH/hh\"], errors=\"coerce\")\n",
    "df_filtered = df[df[\"LCLid\"] == target_lcl_id].copy()\n",
    "df_filtered = df_filtered.drop_duplicates()\n",
    "df_filtered = df_filtered[[\"DateTime\", \"KWH/hh\"]]\n",
    "df_filtered.to_csv(f\"../data/interim/energy/{target_lcl_id}.csv\", index=False)"
   ]
  },
  {
   "cell_type": "code",
   "execution_count": 47,
   "metadata": {},
   "outputs": [],
   "source": [
    "df_interpolated = pd.read_csv(\"../data/processed/energy/MAC000145_linear_interpolated.csv\")\n"
   ]
  },
  {
   "cell_type": "code",
   "execution_count": 50,
   "metadata": {},
   "outputs": [
    {
     "data": {
      "text/plain": [
       "DateTime    0\n",
       "KWH/hh      0\n",
       "dtype: int64"
      ]
     },
     "execution_count": 50,
     "metadata": {},
     "output_type": "execute_result"
    }
   ],
   "source": [
    "df_interpolated.isna().sum()"
   ]
  },
  {
   "cell_type": "code",
   "execution_count": 48,
   "metadata": {},
   "outputs": [
    {
     "name": "stdout",
     "output_type": "stream",
     "text": [
      "<class 'pandas.core.frame.DataFrame'>\n",
      "RangeIndex: 39727 entries, 0 to 39726\n",
      "Data columns (total 2 columns):\n",
      " #   Column    Non-Null Count  Dtype  \n",
      "---  ------    --------------  -----  \n",
      " 0   DateTime  39727 non-null  object \n",
      " 1   KWH/hh    39727 non-null  float64\n",
      "dtypes: float64(1), object(1)\n",
      "memory usage: 620.9+ KB\n"
     ]
    }
   ],
   "source": [
    "df_interpolated.info()"
   ]
  },
  {
   "cell_type": "code",
   "execution_count": 49,
   "metadata": {},
   "outputs": [
    {
     "name": "stdout",
     "output_type": "stream",
     "text": [
      "All intervals are 30 minutes\n"
     ]
    }
   ],
   "source": [
    "from datetime import timedelta\n",
    "\n",
    "df_interpolated[\"DateTime\"] = pd.to_datetime(df_interpolated[\"DateTime\"])\n",
    "time_diffs = df_interpolated[\"DateTime\"].diff().dropna()\n",
    "expected_diff = timedelta(minutes=30)\n",
    "irregular_intervals = time_diffs[time_diffs != expected_diff]\n",
    "\n",
    "if len(irregular_intervals) > 0:\n",
    "    print(\"Irregular time intervals detected\")\n",
    "else:\n",
    "    print(\"All intervals are 30 minutes\")"
   ]
  }
 ],
 "metadata": {
  "kernelspec": {
   "display_name": ".venv",
   "language": "python",
   "name": "python3"
  },
  "language_info": {
   "codemirror_mode": {
    "name": "ipython",
    "version": 3
   },
   "file_extension": ".py",
   "mimetype": "text/x-python",
   "name": "python",
   "nbconvert_exporter": "python",
   "pygments_lexer": "ipython3",
   "version": "3.12.6"
  }
 },
 "nbformat": 4,
 "nbformat_minor": 2
}
